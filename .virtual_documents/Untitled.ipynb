import numpy as np
import pandas as pd
import matplotlib.pyplot as plt
from scipy.optimize import curve_fit


df = pd.read_csv("spectrum.csv")
print(df.shape)


print(df.columns)
print(df.head)


#wave = wavelength of the spectrum
#flam = flux per wavelength (lam=lamba, stands for wavelength)


x = df['wave']
y = df['flam']
plt.plot(x,y, label = "data")
plt.xlabel("wavelength [Angstroms]")
plt.ylabel("flux [lamda]")
plt.legend()
plt.show()


plt.plot( x/10, y)


mask = (df['wave'] > 13200) & (df['wave'] < 13700)
print(mask)


x_masked = df['wave'][mask]
y_masked = df['flam'][mask]
plt.plot(x_masked, y_masked)
plt.show


def gaussian (x, amp, mu, sigma):
    return amp * np.exp(-0.5 * ((x - mu) / sigma)**2)

p0 = [1e-16, 13350, 10, 5e-16, 13450, 10, 8e-16, 13550, 10]


popt, pcov = curve_fit(gaussian, x, y)



