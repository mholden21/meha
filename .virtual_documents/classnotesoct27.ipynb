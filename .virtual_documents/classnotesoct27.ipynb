# Importing packages
import numpy as np
import pandas as pd
import matplotlib.pyplot as plt
from scipy.optimize import curve_fit


df = pd.read_csv("xy_data.csv")
print(df.shape)


#prints first 5 rows
df.head()


#prints last 5 words
df.tail()


x = df["x"]
y = df["y"]

#plt.plot(x,y)
plt.plot(x,y,'b+', label="data")
plt.title("Data to fit")
plt.xlabel("x values")
plt.ylabel("y values")
plt.legend()
plt.show()


#What is the shape of our data?
#linear
#what function would you write for the data
# y=mx+b


def linear_fit(x,m,b):
    return (m * x) + b


popt, pcov = curve_fit(linear_fit, x, y)
# x, y = the columns of our data
# linear_fit = the fit we are guessing
# curve_fit = the scipy function
# popt = optimal parameters
# pcov = covariance matrix (error on the fit)


#get optimal parameters
m_fit, b_fit = popt
print(f"Line of Best Fit: y = {m_fit:.2f} + {b_fit:2f}")


plt.plot(x,y,'b+', label="data")
plt.plot(x, m_fit*x + b_fit, color="red", label="Linear Fit")
plt.title("Data to fit")
plt.xlabel("x values")
plt.ylabel("y values")
plt.legend()
plt.show()


plt.plot(x,y,'b+', label="data")
plt.plot(x, linear_fit(x, *popt), color="red", label="Linear Fit")
plt.title("Data to fit")
plt.xlabel("x values")
plt.ylabel("y values")
plt.legend()
plt.show()


#Errors
perr = np.sqrt(np.diag(pcov))
m_err, b_err = perr

print(f"Slope: {m_fit:.2f} +/- {m_err:.2f}")
print(f"Intercept: {b_fit:.2f} +/- {b_err:.2f}")
#line of best fit with errors


# reduced chi-squared
residuals = y-linear_fit(x, m_fit, b_fit) #linear_fit(x,m,b)
chi2 = np.sum(residuals**2)
dof = len(x) - len(popt)
chi2_squared = chi2 / dof

print(f"Reduced chi-squared: {chi2_squared:.2f}")


#values closer to 1 is a better fit


def plot_fit(x_data, y_data):
    popt, _ = curve_fit(linear_fit, x_data, y_data)
    slope, intercept = popt
    fit_line = (slope*x) + intercept
    plt.plot(x,y,'b+', label="data")
    plt.plot(x, fit_line, color="red", label="Linear Fit")
    plt.title("Data to fit")
    plt.xlabel("x values")
    plt.ylabel("y values")
    plt.legend()
    plt.show()
plot_fit(x, y)



