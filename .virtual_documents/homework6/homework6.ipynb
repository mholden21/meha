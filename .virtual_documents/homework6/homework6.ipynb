import numpy as np
list = [20, 27, 9, 12, 31, 17, 4, 50, 39, 35]
arr = np.array(list)
print(arr*4)
print(np.mean(arr))
print(np.median(arr))
print(np.std(arr))
print(np.argmin(arr))
print(np.argmax(arr))


print(arr[6])
print(arr[7])
print(np.min(arr))
print(np.max(arr))


boolean = arr > 20
arr_big = arr[boolean]
print(arr_big)


matrix = [
[5, 12, 17, 9],
[8, 21, 14, 3],
[6, 13, 19, 11]
]
arr2 = np.array(matrix)
print(arr2.shape)
print(arr2[:,2])
print(arr2[1,:])
print(arr2*2)
print(np.mean(arr2, axis=1))
print(np.mean(arr2))
print(np.max(arr2, axis=0))
print(np.min(arr2, axis=1))
print(arr2.flatten())
print(np.argmin(arr2))
print(np.argmax(arr2))
print(np.unravel_index(7, (3,4)))
print(np.unravel_index(5, (3,4)))
boolean2 = arr2 > 15
arr2_big = arr2[boolean2]
print(arr2_big)
print(np.sort(arr2, axis=1))


arr3 = np.array([
[2, 3, 5],
[14, 6, 8],
[11, 13, 17],
[7, 10, 13]
])

def prime(num):
    if num < 2:
        return False
    for i in range(2, int(num**0.5) + 1):
        if num % i == 0:
            return False
    else:
        return True

def prime_rows(arr):
    primes = np.vectorize(prime)(arr)
    rows = np.any(primes, axis = 1)
    print(arr[rows])

prime_rows(arr3)



def zeros():
    return np.zeros((8,8))

arr4 =  zeros()
print(arr4)


def odds(arr):
    ones = np.array([0, 1]*4)
    arr[1::2] = ones
    print(arr)
odds(arr4)
def evens(arr):
    ones = np.array([1, 0]*4)
    arr[0::2] = ones
    print(arr)
evens(arr4)


def odds(arr):
    ones = np.array([1, 0]*4)
    arr[1::2] = ones
    print(arr)
odds(arr4)
def evens(arr):
    ones = np.array([0, 1]*4)
    arr[0::2] = ones
    print(arr)
evens(arr4)


universe = np.array(["galaxy", "clusters"])
def expansion(arr, num):
    arr2 = []
    for word in arr:
        for i in word:
            arr2.append(i)
            arr2.append(" "*num)
    return arr2

print(expansion(universe, 4))
            


star = np.random.randint(500, 2000, (5, 5))
array = [[1344,  584, 1000, 1356, 1981],
 [969, 1580,  683, 1158, 1614],
 [552, 1103, 1766, 1694, 1901],
 [810, 1908, 1387, 1109, 1388],
 [1431, 1856, 1737,  938,  725]]
stars = np.array(array)
print(stars)


def Second_brightest(stars):
    sort_stars = np.sort(stars, axis = 1)
    return sort_stars[:, -2]
    
print(Second_brightest(stars))



