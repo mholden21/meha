import numpy as np
import matplotlib.pyplot as plt


im = np.loadtxt("astro_image.csv")


im









