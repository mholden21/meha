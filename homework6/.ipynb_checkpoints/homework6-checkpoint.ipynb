{
 "cells": [
  {
   "cell_type": "code",
   "execution_count": 4,
   "id": "e8340fa2-ad0a-408b-b210-96fb7f248bc2",
   "metadata": {},
   "outputs": [
    {
     "name": "stdout",
     "output_type": "stream",
     "text": [
      "[ 80 108  36  48 124  68  16 200 156 140]\n",
      "24.4\n",
      "23.5\n",
      "13.828955130450023\n",
      "6\n",
      "7\n"
     ]
    }
   ],
   "source": [
    "import numpy as np\n",
    "list = [20, 27, 9, 12, 31, 17, 4, 50, 39, 35]\n",
    "arr = np.array(list)\n",
    "print(arr*4)\n",
    "print(np.mean(arr))\n",
    "print(np.median(arr))\n",
    "print(np.std(arr))\n",
    "print(np.argmin(arr))\n",
    "print(np.argmax(arr))"
   ]
  },
  {
   "cell_type": "code",
   "execution_count": 5,
   "id": "05bc759d-b7f8-496b-8e03-03be08ea7efa",
   "metadata": {},
   "outputs": [
    {
     "name": "stdout",
     "output_type": "stream",
     "text": [
      "4\n",
      "50\n",
      "4\n",
      "50\n"
     ]
    }
   ],
   "source": [
    "print(arr[6])\n",
    "print(arr[7])\n",
    "print(np.min(arr))\n",
    "print(np.max(arr))"
   ]
  },
  {
   "cell_type": "code",
   "execution_count": 8,
   "id": "c219c5a4-fafa-49ae-ac19-10dac2fbf3b2",
   "metadata": {},
   "outputs": [
    {
     "name": "stdout",
     "output_type": "stream",
     "text": [
      "[27 31 50 39 35]\n"
     ]
    }
   ],
   "source": [
    "boolean = arr > 20\n",
    "arr_big = arr[boolean]\n",
    "print(arr_big)"
   ]
  },
  {
   "cell_type": "code",
   "execution_count": 29,
   "id": "b8913758-d3b2-4b53-8ebe-d454a8b7dfde",
   "metadata": {},
   "outputs": [
    {
     "name": "stdout",
     "output_type": "stream",
     "text": [
      "(3, 4)\n",
      "[17 14 19]\n",
      "[ 8 21 14  3]\n",
      "[[10 24 34 18]\n",
      " [16 42 28  6]\n",
      " [12 26 38 22]]\n",
      "[10.75 11.5  12.25]\n",
      "11.5\n",
      "[ 8 21 19 11]\n",
      "[5 3 6]\n",
      "[ 5 12 17  9  8 21 14  3  6 13 19 11]\n",
      "7\n",
      "5\n",
      "(np.int64(1), np.int64(3))\n",
      "(np.int64(1), np.int64(1))\n",
      "[17 21 19]\n",
      "[[ 5  9 12 17]\n",
      " [ 3  8 14 21]\n",
      " [ 6 11 13 19]]\n"
     ]
    }
   ],
   "source": [
    "matrix = [\n",
    "[5, 12, 17, 9],\n",
    "[8, 21, 14, 3],\n",
    "[6, 13, 19, 11]\n",
    "]\n",
    "arr2 = np.array(matrix)\n",
    "print(arr2.shape)\n",
    "print(arr2[:,2])\n",
    "print(arr2[1,:])\n",
    "print(arr2*2)\n",
    "print(np.mean(arr2, axis=1))\n",
    "print(np.mean(arr2))\n",
    "print(np.max(arr2, axis=0))\n",
    "print(np.min(arr2, axis=1))\n",
    "print(arr2.flatten())\n",
    "print(np.argmin(arr2))\n",
    "print(np.argmax(arr2))\n",
    "print(np.unravel_index(7, (3,4)))\n",
    "print(np.unravel_index(5, (3,4)))\n",
    "boolean2 = arr2 > 15\n",
    "arr2_big = arr2[boolean2]\n",
    "print(arr2_big)\n",
    "print(np.sort(arr2, axis=1))"
   ]
  },
  {
   "cell_type": "code",
   "execution_count": 32,
   "id": "e58175b4-5da7-47f8-800e-ed589526224b",
   "metadata": {},
   "outputs": [
    {
     "name": "stdout",
     "output_type": "stream",
     "text": [
      "[[ 2  3  5]\n",
      " [11 13 17]\n",
      " [ 7 10 13]]\n"
     ]
    }
   ],
   "source": [
    "arr3 = np.array([\n",
    "[2, 3, 5],\n",
    "[14, 6, 8],\n",
    "[11, 13, 17],\n",
    "[7, 10, 13]\n",
    "])\n",
    "\n",
    "def prime(num):\n",
    "    if num < 2:\n",
    "        return False\n",
    "    for i in range(2, int(num**0.5) + 1):\n",
    "        if num % i == 0:\n",
    "            return False\n",
    "    else:\n",
    "        return True\n",
    "\n",
    "def prime_rows(arr):\n",
    "    primes = np.vectorize(prime)(arr)\n",
    "    rows = np.any(primes, axis = 1)\n",
    "    print(arr[rows])\n",
    "\n",
    "prime_rows(arr3)\n"
   ]
  },
  {
   "cell_type": "code",
   "execution_count": 34,
   "id": "7b763b47-7db6-4a98-b06a-83e80c3c6986",
   "metadata": {},
   "outputs": [
    {
     "name": "stdout",
     "output_type": "stream",
     "text": [
      "[[0. 0. 0. 0. 0. 0. 0. 0.]\n",
      " [0. 0. 0. 0. 0. 0. 0. 0.]\n",
      " [0. 0. 0. 0. 0. 0. 0. 0.]\n",
      " [0. 0. 0. 0. 0. 0. 0. 0.]\n",
      " [0. 0. 0. 0. 0. 0. 0. 0.]\n",
      " [0. 0. 0. 0. 0. 0. 0. 0.]\n",
      " [0. 0. 0. 0. 0. 0. 0. 0.]\n",
      " [0. 0. 0. 0. 0. 0. 0. 0.]]\n"
     ]
    }
   ],
   "source": [
    "def zeros():\n",
    "    return np.zeros((8,8))\n",
    "\n",
    "arr4 =  zeros()\n",
    "print(arr4)"
   ]
  },
  {
   "cell_type": "code",
   "execution_count": 48,
   "id": "73628877-d736-4666-8dc8-d7a9c5977467",
   "metadata": {},
   "outputs": [
    {
     "name": "stdout",
     "output_type": "stream",
     "text": [
      "[[0. 1. 0. 1. 0. 1. 0. 1.]\n",
      " [0. 1. 0. 1. 0. 1. 0. 1.]\n",
      " [0. 1. 0. 1. 0. 1. 0. 1.]\n",
      " [0. 1. 0. 1. 0. 1. 0. 1.]\n",
      " [0. 1. 0. 1. 0. 1. 0. 1.]\n",
      " [0. 1. 0. 1. 0. 1. 0. 1.]\n",
      " [0. 1. 0. 1. 0. 1. 0. 1.]\n",
      " [0. 1. 0. 1. 0. 1. 0. 1.]]\n",
      "[[1. 0. 1. 0. 1. 0. 1. 0.]\n",
      " [0. 1. 0. 1. 0. 1. 0. 1.]\n",
      " [1. 0. 1. 0. 1. 0. 1. 0.]\n",
      " [0. 1. 0. 1. 0. 1. 0. 1.]\n",
      " [1. 0. 1. 0. 1. 0. 1. 0.]\n",
      " [0. 1. 0. 1. 0. 1. 0. 1.]\n",
      " [1. 0. 1. 0. 1. 0. 1. 0.]\n",
      " [0. 1. 0. 1. 0. 1. 0. 1.]]\n"
     ]
    }
   ],
   "source": [
    "def odds(arr):\n",
    "    ones = np.array([0, 1]*4)\n",
    "    arr[1::2] = ones\n",
    "    print(arr)\n",
    "odds(arr4)\n",
    "def evens(arr):\n",
    "    ones = np.array([1, 0]*4)\n",
    "    arr[0::2] = ones\n",
    "    print(arr)\n",
    "evens(arr4)"
   ]
  },
  {
   "cell_type": "code",
   "execution_count": 49,
   "id": "521d9abe-16e0-4962-a780-6e94baa0b09f",
   "metadata": {},
   "outputs": [
    {
     "name": "stdout",
     "output_type": "stream",
     "text": [
      "[[1. 0. 1. 0. 1. 0. 1. 0.]\n",
      " [1. 0. 1. 0. 1. 0. 1. 0.]\n",
      " [1. 0. 1. 0. 1. 0. 1. 0.]\n",
      " [1. 0. 1. 0. 1. 0. 1. 0.]\n",
      " [1. 0. 1. 0. 1. 0. 1. 0.]\n",
      " [1. 0. 1. 0. 1. 0. 1. 0.]\n",
      " [1. 0. 1. 0. 1. 0. 1. 0.]\n",
      " [1. 0. 1. 0. 1. 0. 1. 0.]]\n",
      "[[0. 1. 0. 1. 0. 1. 0. 1.]\n",
      " [1. 0. 1. 0. 1. 0. 1. 0.]\n",
      " [0. 1. 0. 1. 0. 1. 0. 1.]\n",
      " [1. 0. 1. 0. 1. 0. 1. 0.]\n",
      " [0. 1. 0. 1. 0. 1. 0. 1.]\n",
      " [1. 0. 1. 0. 1. 0. 1. 0.]\n",
      " [0. 1. 0. 1. 0. 1. 0. 1.]\n",
      " [1. 0. 1. 0. 1. 0. 1. 0.]]\n"
     ]
    }
   ],
   "source": [
    "def odds(arr):\n",
    "    ones = np.array([1, 0]*4)\n",
    "    arr[1::2] = ones\n",
    "    print(arr)\n",
    "odds(arr4)\n",
    "def evens(arr):\n",
    "    ones = np.array([0, 1]*4)\n",
    "    arr[0::2] = ones\n",
    "    print(arr)\n",
    "evens(arr4)"
   ]
  },
  {
   "cell_type": "code",
   "execution_count": 51,
   "id": "4a39454b-85f7-42af-84b5-8dce62ecd1ea",
   "metadata": {},
   "outputs": [
    {
     "name": "stdout",
     "output_type": "stream",
     "text": [
      "['g', '    ', 'a', '    ', 'l', '    ', 'a', '    ', 'x', '    ', 'y', '    ', 'c', '    ', 'l', '    ', 'u', '    ', 's', '    ', 't', '    ', 'e', '    ', 'r', '    ', 's', '    ']\n"
     ]
    }
   ],
   "source": [
    "universe = np.array([\"galaxy\", \"clusters\"])\n",
    "def expansion(arr, num):\n",
    "    arr2 = []\n",
    "    for word in arr:\n",
    "        for i in word:\n",
    "            arr2.append(i)\n",
    "            arr2.append(\" \"*num)\n",
    "    return arr2\n",
    "\n",
    "print(expansion(universe, 4))\n",
    "            "
   ]
  },
  {
   "cell_type": "code",
   "execution_count": 58,
   "id": "cfeff725-5f0a-4803-9d46-1f0cf0852267",
   "metadata": {},
   "outputs": [
    {
     "name": "stdout",
     "output_type": "stream",
     "text": [
      "[[1344  584 1000 1356 1981]\n",
      " [ 969 1580  683 1158 1614]\n",
      " [ 552 1103 1766 1694 1901]\n",
      " [ 810 1908 1387 1109 1388]\n",
      " [1431 1856 1737  938  725]]\n"
     ]
    }
   ],
   "source": [
    "star = np.random.randint(500, 2000, (5, 5))\n",
    "array = [[1344,  584, 1000, 1356, 1981],\n",
    " [969, 1580,  683, 1158, 1614],\n",
    " [552, 1103, 1766, 1694, 1901],\n",
    " [810, 1908, 1387, 1109, 1388],\n",
    " [1431, 1856, 1737,  938,  725]]\n",
    "stars = np.array(array)\n",
    "print(stars)"
   ]
  },
  {
   "cell_type": "code",
   "execution_count": 75,
   "id": "decceaed-adca-4669-b1f5-a7587a01860e",
   "metadata": {},
   "outputs": [
    {
     "name": "stdout",
     "output_type": "stream",
     "text": [
      "[1356 1580 1766 1388 1737]\n"
     ]
    }
   ],
   "source": [
    "def Second_brightest(stars):\n",
    "    sort_stars = np.sort(stars, axis = 1)\n",
    "    return sort_stars[:, -2]\n",
    "    \n",
    "print(Second_brightest(stars))"
   ]
  },
  {
   "cell_type": "code",
   "execution_count": null,
   "id": "3cbe854d-5991-40a9-82ac-69ce187df37a",
   "metadata": {},
   "outputs": [],
   "source": []
  }
 ],
 "metadata": {
  "kernelspec": {
   "display_name": "Python 3 (ipykernel)",
   "language": "python",
   "name": "python3"
  },
  "language_info": {
   "codemirror_mode": {
    "name": "ipython",
    "version": 3
   },
   "file_extension": ".py",
   "mimetype": "text/x-python",
   "name": "python",
   "nbconvert_exporter": "python",
   "pygments_lexer": "ipython3",
   "version": "3.13.5"
  }
 },
 "nbformat": 4,
 "nbformat_minor": 5
}
