import numpy as np
import matplotlib.pyplot as plt


def make_sine_wave(x, A, w):
    y = A * np.sin(w*x)
    plt.figure(figsize=(8,4))
    plt.plot(x,y)
    plt.show()
    return y

x = np.linspace(0, 2 * np.pi, 1000)



amplitude = [0.5, 1, 1.5, 2, 2.5]
frequency = [1, 2, 3, 4, 5]
fig, axes = plt.subplots(1,3, figsize=(25,5))
for amp in amplitude:
    make_sine_wave(x, amp, 1)
    axes[0].set_title("different amplitudes")

for frq in frequency:
    make_sine_wave(x, 1, frq)
    axes[1].set_title("different frequencies")
    
for amp, frq in zip(amplitude, frequency):
    make_sine_wave(x, amp, frq)
    axes[2].set_title("different amplitude and frequency")

plt.show()



