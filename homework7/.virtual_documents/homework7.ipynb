import numpy as np
import matplotlib.pyplot as plt


def make_sine_wave(x, A, w, ax):
    y = A * np.sin(w*x)
    ax.plot(x,y)
    return y

x = np.linspace(0, 2 * np.pi, 1000)



amplitude = [0.5, 1, 1.5, 2, 2.5]
frequency = [1, 2, 3, 4, 5]
fig, axes = plt.subplots(1,3, figsize=(25,5))


for amp in amplitude:
    make_sine_wave(x, amp, 1, axes[0])   
axes[0].set_title("different amplitudes")
axes[0].set_xlabel("x")
axes[0].set_ylabel("y")
axes[0].legend(labels=[f"A={a}" for a in amplitude])

for frq in frequency:
    make_sine_wave(x, 1, frq, axes[1])
axes[1].set_title("different frequencies")
axes[1].set_xlabel("x")
axes[1].set_ylabel("y")
axes[1].legend(labels=[f"f={f}" for f in amplitude])

for amp, frq in zip(amplitude, frequency):
    make_sine_wave(x, amp, frq, axes[2])   
axes[2].set_title("different amplitude and frequency")
axes[2].set_xlabel("x")
axes[2].set_ylabel("y")
axes[2].legend(labels=[f"A={a}, f={f}" for a, f in zip(amplitude, frequency)])

plt.show()



